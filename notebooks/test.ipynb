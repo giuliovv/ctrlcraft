{
 "cells": [
  {
   "cell_type": "code",
   "execution_count": 1,
   "metadata": {},
   "outputs": [],
   "source": [
    "import sys\n",
    "import os\n",
    "\n",
    "# Add the parent directory to sys.path\n",
    "sys.path.append(os.path.abspath(os.path.join(os.getcwd(), os.pardir)))"
   ]
  },
  {
   "cell_type": "code",
   "execution_count": 2,
   "metadata": {},
   "outputs": [
    {
     "name": "stderr",
     "output_type": "stream",
     "text": [
      "/home/giulio/prog/.virtualenvs/ctrl/lib/python3.8/site-packages/tqdm/auto.py:21: TqdmWarning: IProgress not found. Please update jupyter and ipywidgets. See https://ipywidgets.readthedocs.io/en/stable/user_install.html\n",
      "  from .autonotebook import tqdm as notebook_tqdm\n"
     ]
    }
   ],
   "source": [
    "import gymnasium as gym\n",
    "import numpy as np\n",
    "\n",
    "from controllers import PIDController"
   ]
  },
  {
   "cell_type": "code",
   "execution_count": 3,
   "metadata": {},
   "outputs": [],
   "source": [
    "env = gym.make('Pendulum-v1')\n",
    "    \n",
    "# Initialize controller\n",
    "controller = PIDController(kp=1.0, ki=0.5, kd=0.1)\n",
    "\n",
    "# Simulation loop\n",
    "state, info = env.reset()\n",
    "done = False"
   ]
  },
  {
   "cell_type": "code",
   "execution_count": 4,
   "metadata": {},
   "outputs": [
    {
     "data": {
      "text/plain": [
       "array([ 0.86431086, -0.50295794,  0.26549038], dtype=float32)"
      ]
     },
     "execution_count": 4,
     "metadata": {},
     "output_type": "execute_result"
    }
   ],
   "source": [
    "state"
   ]
  },
  {
   "cell_type": "code",
   "execution_count": 5,
   "metadata": {},
   "outputs": [
    {
     "name": "stdout",
     "output_type": "stream",
     "text": [
      "[ 0.86431086 -0.50295794  0.26549038]\n"
     ]
    },
    {
     "name": "stderr",
     "output_type": "stream",
     "text": [
      "/home/giulio/prog/.virtualenvs/ctrl/lib/python3.8/site-packages/gymnasium/envs/classic_control/pendulum.py:173: UserWarning: \u001b[33mWARN: You are calling render method without specifying any render mode. You can specify the render_mode at initialization, e.g. gym.make(\"Pendulum-v1\", render_mode=\"rgb_array\")\u001b[0m\n",
      "  gym.logger.warn(\n"
     ]
    }
   ],
   "source": [
    "env.render()\n",
    "print(state)\n",
    "cos_theta, sin_theta, theta_dot = state\n",
    "angle = np.arctan2(sin_theta, cos_theta)"
   ]
  },
  {
   "cell_type": "code",
   "execution_count": 6,
   "metadata": {},
   "outputs": [],
   "source": [
    "control_action = controller.compute_action(angle, reference=0)\n",
    "state, reward, done, truncated, _ = env.step([control_action])\n",
    "env.close()"
   ]
  },
  {
   "cell_type": "code",
   "execution_count": 7,
   "metadata": {},
   "outputs": [
    {
     "data": {
      "text/plain": [
       "(array([ 0.85870713, -0.51246667, -0.23549965], dtype=float32),\n",
       " -0.27770332045772994,\n",
       " False,\n",
       " False,\n",
       " {})"
      ]
     },
     "execution_count": 7,
     "metadata": {},
     "output_type": "execute_result"
    }
   ],
   "source": [
    "env.step([control_action])"
   ]
  },
  {
   "cell_type": "code",
   "execution_count": 8,
   "metadata": {},
   "outputs": [
    {
     "name": "stderr",
     "output_type": "stream",
     "text": [
      "[I 2023-10-30 12:46:05,929] A new study created in memory with name: no-name-0c6d2f01-36ca-45fa-83bf-489ae5759901\n",
      "[I 2023-10-30 12:46:05,948] Trial 0 finished with value: 157.68606369126798 and parameters: {'kp': 4.118467553758391, 'ki': 0.32253777534087924, 'kd': 0.7637859452967144}. Best is trial 0 with value: 157.68606369126798.\n",
      "[I 2023-10-30 12:46:05,963] Trial 1 finished with value: 229.04158444936274 and parameters: {'kp': 0.08630934870759721, 'ki': 1.410188583804426, 'kd': 3.042217974873043}. Best is trial 0 with value: 157.68606369126798.\n",
      "[I 2023-10-30 12:46:05,979] Trial 2 finished with value: 163.48145173528735 and parameters: {'kp': 0.6999856913078883, 'ki': 1.6937256964280296, 'kd': 4.242625187482554}. Best is trial 0 with value: 157.68606369126798.\n",
      "[I 2023-10-30 12:46:05,991] Trial 3 finished with value: 236.12432000564795 and parameters: {'kp': 4.418537165555181, 'ki': 1.8576439026186713, 'kd': 2.3049255780373623}. Best is trial 0 with value: 157.68606369126798.\n",
      "[I 2023-10-30 12:46:06,000] Trial 4 finished with value: 221.49652433495035 and parameters: {'kp': 0.5149169169592305, 'ki': 1.5075817526931683, 'kd': 4.3559916368032905}. Best is trial 0 with value: 157.68606369126798.\n",
      "[I 2023-10-30 12:46:06,009] Trial 5 finished with value: 98.2582552173759 and parameters: {'kp': 3.9793650880836746, 'ki': 3.4843315112325026, 'kd': 0.8486297019602979}. Best is trial 5 with value: 98.2582552173759.\n",
      "[I 2023-10-30 12:46:06,022] Trial 6 finished with value: 234.34891306751823 and parameters: {'kp': 3.3891658739858013, 'ki': 0.35599496745370773, 'kd': 0.34748565796987985}. Best is trial 5 with value: 98.2582552173759.\n",
      "[I 2023-10-30 12:46:06,034] Trial 7 finished with value: 215.80617235018354 and parameters: {'kp': 2.190742883834021, 'ki': 1.2634813747109082, 'kd': 3.2634378274211118}. Best is trial 5 with value: 98.2582552173759.\n",
      "[I 2023-10-30 12:46:06,047] Trial 8 finished with value: 220.4369567374945 and parameters: {'kp': 1.0329982935002686, 'ki': 3.3101107031436925, 'kd': 0.22334365049114735}. Best is trial 5 with value: 98.2582552173759.\n",
      "[I 2023-10-30 12:46:06,063] Trial 9 finished with value: 228.6569668987987 and parameters: {'kp': 3.1047080015917983, 'ki': 4.134926331798187, 'kd': 3.806219373231455}. Best is trial 5 with value: 98.2582552173759.\n",
      "[I 2023-10-30 12:46:06,158] Trial 10 finished with value: 216.3505601340531 and parameters: {'kp': 4.957441277373727, 'ki': 4.388915558654341, 'kd': 1.4619426491617862}. Best is trial 5 with value: 98.2582552173759.\n",
      "[I 2023-10-30 12:46:06,222] Trial 11 finished with value: 220.64743862570884 and parameters: {'kp': 4.11911543809624, 'ki': 2.990809985825998, 'kd': 1.1635773409101968}. Best is trial 5 with value: 98.2582552173759.\n",
      "[I 2023-10-30 12:46:06,277] Trial 12 finished with value: 213.33315691054912 and parameters: {'kp': 3.797911594021568, 'ki': 2.8789317781380257, 'kd': 1.2160112143752833}. Best is trial 5 with value: 98.2582552173759.\n",
      "[I 2023-10-30 12:46:06,330] Trial 13 finished with value: 150.24683820979334 and parameters: {'kp': 4.949830161242572, 'ki': 0.11901392431482496, 'kd': 2.019454729631242}. Best is trial 5 with value: 98.2582552173759.\n",
      "[I 2023-10-30 12:46:06,402] Trial 14 finished with value: 168.28653350670675 and parameters: {'kp': 4.947443068994222, 'ki': 3.6733986985349545, 'kd': 2.0083732113747574}. Best is trial 5 with value: 98.2582552173759.\n",
      "[I 2023-10-30 12:46:06,461] Trial 15 finished with value: 121.39739354415396 and parameters: {'kp': 4.986935409105911, 'ki': 4.788257683998434, 'kd': 1.7927679275540953}. Best is trial 5 with value: 98.2582552173759.\n",
      "[I 2023-10-30 12:46:06,498] Trial 16 finished with value: 97.10404306668642 and parameters: {'kp': 2.829511098272064, 'ki': 4.970688827549656, 'kd': 1.756384940482437}. Best is trial 16 with value: 97.10404306668642.\n",
      "[I 2023-10-30 12:46:06,558] Trial 17 finished with value: 143.46604113021274 and parameters: {'kp': 2.5980902970774578, 'ki': 4.884106154631885, 'kd': 0.07572577723936469}. Best is trial 16 with value: 97.10404306668642.\n",
      "[I 2023-10-30 12:46:06,627] Trial 18 finished with value: 231.34004302507267 and parameters: {'kp': 2.0851349371052574, 'ki': 3.8831400856583307, 'kd': 0.9050131260462111}. Best is trial 16 with value: 97.10404306668642.\n",
      "[I 2023-10-30 12:46:06,699] Trial 19 finished with value: 121.95121229296286 and parameters: {'kp': 3.140232252506386, 'ki': 4.437901191528962, 'kd': 2.4926762223539454}. Best is trial 16 with value: 97.10404306668642.\n",
      "[I 2023-10-30 12:46:06,762] Trial 20 finished with value: 121.91452241420389 and parameters: {'kp': 3.5950963036245334, 'ki': 4.994171010813897, 'kd': 1.5716044122810948}. Best is trial 16 with value: 97.10404306668642.\n",
      "[I 2023-10-30 12:46:06,824] Trial 21 finished with value: 94.97006057514572 and parameters: {'kp': 4.412154382161434, 'ki': 4.559250210254788, 'kd': 1.7505567451361674}. Best is trial 21 with value: 94.97006057514572.\n",
      "[I 2023-10-30 12:46:06,866] Trial 22 finished with value: 218.30128676733744 and parameters: {'kp': 4.185992222849209, 'ki': 3.697704204051901, 'kd': 0.7245591481595399}. Best is trial 21 with value: 94.97006057514572.\n",
      "[I 2023-10-30 12:46:06,916] Trial 23 finished with value: 143.75186294327574 and parameters: {'kp': 2.9202507048835975, 'ki': 4.440550629266496, 'kd': 1.6046035008940787}. Best is trial 21 with value: 94.97006057514572.\n",
      "[I 2023-10-30 12:46:06,964] Trial 24 finished with value: 228.04284764506326 and parameters: {'kp': 3.601818217980159, 'ki': 4.009999650592942, 'kd': 2.2129681951983495}. Best is trial 21 with value: 94.97006057514572.\n",
      "[I 2023-10-30 12:46:07,023] Trial 25 finished with value: 236.70931125935348 and parameters: {'kp': 4.466945974750463, 'ki': 4.505564471210683, 'kd': 4.930985914640002}. Best is trial 21 with value: 94.97006057514572.\n",
      "[I 2023-10-30 12:46:07,076] Trial 26 finished with value: 218.99897955737507 and parameters: {'kp': 3.8851999094001695, 'ki': 3.4970300548815176, 'kd': 1.292898147037202}. Best is trial 21 with value: 94.97006057514572.\n",
      "[I 2023-10-30 12:46:07,134] Trial 27 finished with value: 201.3148655794653 and parameters: {'kp': 3.3904435558314345, 'ki': 4.087269407252188, 'kd': 1.830759554032582}. Best is trial 21 with value: 94.97006057514572.\n",
      "[I 2023-10-30 12:46:07,195] Trial 28 finished with value: 184.54117435859808 and parameters: {'kp': 4.428554723616465, 'ki': 4.6545290737897576, 'kd': 2.583544188308979}. Best is trial 21 with value: 94.97006057514572.\n",
      "[I 2023-10-30 12:46:07,304] Trial 29 finished with value: 236.69978283731902 and parameters: {'kp': 3.9997349255254266, 'ki': 4.141537144126328, 'kd': 0.6549666269040837}. Best is trial 21 with value: 94.97006057514572.\n",
      "[I 2023-10-30 12:46:07,373] Trial 30 finished with value: 187.25729569809562 and parameters: {'kp': 2.7433521696515233, 'ki': 4.967894831277696, 'kd': 0.8682804598174803}. Best is trial 21 with value: 94.97006057514572.\n",
      "[I 2023-10-30 12:46:07,423] Trial 31 finished with value: 222.0099370484759 and parameters: {'kp': 4.5902257456880715, 'ki': 4.746932093255645, 'kd': 1.7574370814005869}. Best is trial 21 with value: 94.97006057514572.\n",
      "[I 2023-10-30 12:46:07,470] Trial 32 finished with value: 222.43157307187116 and parameters: {'kp': 4.699842598791229, 'ki': 4.645204065216994, 'kd': 1.3883770578208265}. Best is trial 21 with value: 94.97006057514572.\n",
      "[I 2023-10-30 12:46:07,511] Trial 33 finished with value: 240.1533421261796 and parameters: {'kp': 4.200375445660973, 'ki': 4.993361245288686, 'kd': 1.7777149681269278}. Best is trial 21 with value: 94.97006057514572.\n",
      "[I 2023-10-30 12:46:07,564] Trial 34 finished with value: 224.94903458958584 and parameters: {'kp': 4.733804127318716, 'ki': 4.294926963608859, 'kd': 1.0313229482184303}. Best is trial 21 with value: 94.97006057514572.\n",
      "[I 2023-10-30 12:46:07,626] Trial 35 finished with value: 137.41341756797365 and parameters: {'kp': 4.217627608383164, 'ki': 4.673760447375754, 'kd': 0.5378336710549008}. Best is trial 21 with value: 94.97006057514572.\n",
      "[I 2023-10-30 12:46:07,688] Trial 36 finished with value: 57.902799552145595 and parameters: {'kp': 4.369433812681301, 'ki': 3.8997880897994146, 'kd': 1.0894424274642616}. Best is trial 36 with value: 57.902799552145595.\n",
      "[I 2023-10-30 12:46:07,774] Trial 37 finished with value: 184.79471021470889 and parameters: {'kp': 3.829296954986895, 'ki': 3.773232281518539, 'kd': 1.05972150243614}. Best is trial 36 with value: 57.902799552145595.\n",
      "[I 2023-10-30 12:46:07,857] Trial 38 finished with value: 232.75178074737818 and parameters: {'kp': 4.34360091758878, 'ki': 3.366102112165031, 'kd': 0.42885146733497637}. Best is trial 36 with value: 57.902799552145595.\n",
      "[I 2023-10-30 12:46:07,912] Trial 39 finished with value: 182.48885811764842 and parameters: {'kp': 3.943177904913005, 'ki': 4.213513666204058, 'kd': 1.377510142035134}. Best is trial 36 with value: 57.902799552145595.\n",
      "[I 2023-10-30 12:46:08,004] Trial 40 finished with value: 194.4592680752749 and parameters: {'kp': 4.564404997405472, 'ki': 3.9177796846599486, 'kd': 0.6816232671557069}. Best is trial 36 with value: 57.902799552145595.\n",
      "[I 2023-10-30 12:46:08,058] Trial 41 finished with value: 197.37790866487316 and parameters: {'kp': 4.71846815233046, 'ki': 4.658251207164824, 'kd': 1.5074270267937717}. Best is trial 36 with value: 57.902799552145595.\n",
      "[I 2023-10-30 12:46:08,108] Trial 42 finished with value: 203.6688758661577 and parameters: {'kp': 4.332989381570985, 'ki': 4.281490931640497, 'kd': 1.0675617251216296}. Best is trial 36 with value: 57.902799552145595.\n",
      "[I 2023-10-30 12:46:08,161] Trial 43 finished with value: 179.82147930502163 and parameters: {'kp': 4.730214517927592, 'ki': 4.4710960007987595, 'kd': 1.2721376452109114}. Best is trial 36 with value: 57.902799552145595.\n",
      "[I 2023-10-30 12:46:08,225] Trial 44 finished with value: 223.8510316865693 and parameters: {'kp': 4.063387219489033, 'ki': 4.0789319383928255, 'kd': 0.29807429615853764}. Best is trial 36 with value: 57.902799552145595.\n",
      "[I 2023-10-30 12:46:08,274] Trial 45 finished with value: 180.3237842582918 and parameters: {'kp': 4.920491880983154, 'ki': 4.76800713578376, 'kd': 1.935418773381151}. Best is trial 36 with value: 57.902799552145595.\n",
      "[I 2023-10-30 12:46:08,327] Trial 46 finished with value: 169.8308325385787 and parameters: {'kp': 4.528997977706054, 'ki': 3.167905237895429, 'kd': 1.6542852874721865}. Best is trial 36 with value: 57.902799552145595.\n",
      "[I 2023-10-30 12:46:08,380] Trial 47 finished with value: 209.97875535148785 and parameters: {'kp': 4.310554601251379, 'ki': 3.640301348905478, 'kd': 2.170593355913067}. Best is trial 36 with value: 57.902799552145595.\n",
      "[I 2023-10-30 12:46:08,429] Trial 48 finished with value: 181.121127147165 and parameters: {'kp': 2.2952328021896733, 'ki': 2.706613884923847, 'kd': 0.8398457580025932}. Best is trial 36 with value: 57.902799552145595.\n",
      "[I 2023-10-30 12:46:08,494] Trial 49 finished with value: 196.70793229208425 and parameters: {'kp': 3.7008298325123827, 'ki': 3.8945145385938957, 'kd': 1.2013180880311276}. Best is trial 36 with value: 57.902799552145595.\n",
      "[I 2023-10-30 12:46:08,556] Trial 50 finished with value: 174.00705778872143 and parameters: {'kp': 4.989748829649898, 'ki': 4.291082105531425, 'kd': 1.4998908612211093}. Best is trial 36 with value: 57.902799552145595.\n",
      "[I 2023-10-30 12:46:08,611] Trial 51 finished with value: 236.1121531654076 and parameters: {'kp': 3.555670450758614, 'ki': 4.98848413511155, 'kd': 1.6411651736777406}. Best is trial 36 with value: 57.902799552145595.\n",
      "[I 2023-10-30 12:46:08,676] Trial 52 finished with value: 225.974955862755 and parameters: {'kp': 3.9838335742598043, 'ki': 4.8021914413179525, 'kd': 1.9364334316194172}. Best is trial 36 with value: 57.902799552145595.\n",
      "[I 2023-10-30 12:46:08,747] Trial 53 finished with value: 236.43814057127491 and parameters: {'kp': 3.6904350533641725, 'ki': 4.5131791320541055, 'kd': 1.5241169644166384}. Best is trial 36 with value: 57.902799552145595.\n",
      "[I 2023-10-30 12:46:08,804] Trial 54 finished with value: 217.96145996734066 and parameters: {'kp': 3.4488755276682874, 'ki': 4.857048077744338, 'kd': 2.3702802604399853}. Best is trial 36 with value: 57.902799552145595.\n",
      "[I 2023-10-30 12:46:08,856] Trial 55 finished with value: 225.39337089197494 and parameters: {'kp': 3.22401148971778, 'ki': 4.456906242659093, 'kd': 2.107847153552048}. Best is trial 36 with value: 57.902799552145595.\n",
      "[I 2023-10-30 12:46:08,902] Trial 56 finished with value: 213.44469714729746 and parameters: {'kp': 4.064575359523157, 'ki': 4.573324454675766, 'kd': 0.9966517283782413}. Best is trial 36 with value: 57.902799552145595.\n",
      "[I 2023-10-30 12:46:08,959] Trial 57 finished with value: 223.64003708359778 and parameters: {'kp': 3.863242900052591, 'ki': 4.822288589700644, 'kd': 1.2609441261396137}. Best is trial 36 with value: 57.902799552145595.\n",
      "[I 2023-10-30 12:46:09,015] Trial 58 finished with value: 170.65238612414566 and parameters: {'kp': 3.199386535295097, 'ki': 4.17334356145393, 'kd': 1.7315641072227608}. Best is trial 36 with value: 57.902799552145595.\n",
      "[I 2023-10-30 12:46:09,076] Trial 59 finished with value: 165.0984751728624 and parameters: {'kp': 4.19588568893799, 'ki': 4.375057515737943, 'kd': 1.9175861218955321}. Best is trial 36 with value: 57.902799552145595.\n",
      "[I 2023-10-30 12:46:09,125] Trial 60 finished with value: 228.66711102077338 and parameters: {'kp': 4.403598945134269, 'ki': 3.966079847119555, 'kd': 1.4253679493251568}. Best is trial 36 with value: 57.902799552145595.\n",
      "[I 2023-10-30 12:46:09,199] Trial 61 finished with value: 233.00047127280442 and parameters: {'kp': 2.988662786191981, 'ki': 4.62911995656841, 'kd': 2.36654068069318}. Best is trial 36 with value: 57.902799552145595.\n",
      "[I 2023-10-30 12:46:09,261] Trial 62 finished with value: 243.35837633080305 and parameters: {'kp': 3.438982686101226, 'ki': 4.849922024965236, 'kd': 2.6937541018249114}. Best is trial 36 with value: 57.902799552145595.\n",
      "[I 2023-10-30 12:46:09,327] Trial 63 finished with value: 135.586007502862 and parameters: {'kp': 3.2445024584965223, 'ki': 4.455266271616909, 'kd': 2.0123351201878314}. Best is trial 36 with value: 57.902799552145595.\n",
      "[I 2023-10-30 12:46:09,408] Trial 64 finished with value: 228.8272296328099 and parameters: {'kp': 3.7302842472245095, 'ki': 4.337883031999121, 'kd': 2.2458292665504755}. Best is trial 36 with value: 57.902799552145595.\n",
      "[I 2023-10-30 12:46:09,452] Trial 65 finished with value: 183.999447248685 and parameters: {'kp': 2.8833581226699097, 'ki': 4.94769778056457, 'kd': 1.7973699792333242}. Best is trial 36 with value: 57.902799552145595.\n",
      "[I 2023-10-30 12:46:09,515] Trial 66 finished with value: 192.39722866939977 and parameters: {'kp': 2.592834339333425, 'ki': 4.653595544151076, 'kd': 1.625766464067167}. Best is trial 36 with value: 57.902799552145595.\n",
      "[I 2023-10-30 12:46:09,625] Trial 67 finished with value: 225.77637569215187 and parameters: {'kp': 3.6391984211848856, 'ki': 3.7465248339505903, 'kd': 1.1460048307323352}. Best is trial 36 with value: 57.902799552145595.\n",
      "[I 2023-10-30 12:46:09,693] Trial 68 finished with value: 170.71319854000143 and parameters: {'kp': 4.105137807494241, 'ki': 4.138802077523796, 'kd': 2.7642610355238273}. Best is trial 36 with value: 57.902799552145595.\n",
      "[I 2023-10-30 12:46:09,744] Trial 69 finished with value: 226.48688637747975 and parameters: {'kp': 3.537673031937779, 'ki': 4.990998241238812, 'kd': 0.8341110342700284}. Best is trial 36 with value: 57.902799552145595.\n",
      "[I 2023-10-30 12:46:09,831] Trial 70 finished with value: 121.59764330160331 and parameters: {'kp': 3.845228671474075, 'ki': 4.779520981267561, 'kd': 1.353598085971972}. Best is trial 36 with value: 57.902799552145595.\n",
      "[I 2023-10-30 12:46:09,941] Trial 71 finished with value: 227.7165271767135 and parameters: {'kp': 3.9606467525665354, 'ki': 4.7667290353249, 'kd': 1.3261056991671265}. Best is trial 36 with value: 57.902799552145595.\n",
      "[I 2023-10-30 12:46:09,992] Trial 72 finished with value: 201.7232400466117 and parameters: {'kp': 3.821285126214747, 'ki': 4.577318772005505, 'kd': 1.5116473270066466}. Best is trial 36 with value: 57.902799552145595.\n",
      "[I 2023-10-30 12:46:10,063] Trial 73 finished with value: 230.6848254645274 and parameters: {'kp': 4.500784561317797, 'ki': 4.366421673265673, 'kd': 0.9390288289612394}. Best is trial 36 with value: 57.902799552145595.\n",
      "[I 2023-10-30 12:46:10,142] Trial 74 finished with value: 156.85524327300018 and parameters: {'kp': 4.243271175459365, 'ki': 4.7623239289978585, 'kd': 1.8152070488993357}. Best is trial 36 with value: 57.902799552145595.\n",
      "[I 2023-10-30 12:46:10,199] Trial 75 finished with value: 222.51989904631856 and parameters: {'kp': 3.355291559390267, 'ki': 4.557468149844262, 'kd': 2.059744690884425}. Best is trial 36 with value: 57.902799552145595.\n",
      "[I 2023-10-30 12:46:10,265] Trial 76 finished with value: 50.08483974916823 and parameters: {'kp': 4.817266338793656, 'ki': 4.02139697338465, 'kd': 0.5779240617031003}. Best is trial 76 with value: 50.08483974916823.\n",
      "[I 2023-10-30 12:46:10,330] Trial 77 finished with value: 225.89786887035154 and parameters: {'kp': 4.828663839027124, 'ki': 4.053324184631165, 'kd': 0.6547310261541008}. Best is trial 76 with value: 50.08483974916823.\n",
      "[I 2023-10-30 12:46:10,397] Trial 78 finished with value: 233.15600067971235 and parameters: {'kp': 4.61694444000066, 'ki': 3.4995834643447337, 'kd': 0.4606362079630371}. Best is trial 76 with value: 50.08483974916823.\n",
      "[I 2023-10-30 12:46:10,462] Trial 79 finished with value: 146.8744717786895 and parameters: {'kp': 4.396020548280308, 'ki': 4.283306688809806, 'kd': 1.2022026954967138}. Best is trial 76 with value: 50.08483974916823.\n",
      "[I 2023-10-30 12:46:10,527] Trial 80 finished with value: 193.8793906685446 and parameters: {'kp': 4.8429406250665314, 'ki': 3.867630773919346, 'kd': 0.17212811934459926}. Best is trial 76 with value: 50.08483974916823.\n",
      "[I 2023-10-30 12:46:10,627] Trial 81 finished with value: 234.84975579946558 and parameters: {'kp': 4.609147955283052, 'ki': 4.868973223172783, 'kd': 1.0964418011333077}. Best is trial 76 with value: 50.08483974916823.\n",
      "[I 2023-10-30 12:46:10,703] Trial 82 finished with value: 117.442858341055 and parameters: {'kp': 4.8569656806998855, 'ki': 4.70184886261439, 'kd': 0.9482962852384234}. Best is trial 76 with value: 50.08483974916823.\n",
      "[I 2023-10-30 12:46:10,783] Trial 83 finished with value: 212.63796063295968 and parameters: {'kp': 4.841684863754992, 'ki': 4.714657297924098, 'kd': 0.9315176181924227}. Best is trial 76 with value: 50.08483974916823.\n",
      "[I 2023-10-30 12:46:10,846] Trial 84 finished with value: 183.57600019518668 and parameters: {'kp': 4.9851762833105004, 'ki': 4.18249241866192, 'kd': 0.7719869992632553}. Best is trial 76 with value: 50.08483974916823.\n",
      "[I 2023-10-30 12:46:10,925] Trial 85 finished with value: 130.04865809182292 and parameters: {'kp': 4.69309325709716, 'ki': 4.999334656981784, 'kd': 1.358786636607558}. Best is trial 76 with value: 50.08483974916823.\n",
      "[I 2023-10-30 12:46:10,996] Trial 86 finished with value: 114.49963023373725 and parameters: {'kp': 4.490109761944833, 'ki': 4.543659560832982, 'kd': 0.5512324435213061}. Best is trial 76 with value: 50.08483974916823.\n",
      "[I 2023-10-30 12:46:11,048] Trial 87 finished with value: 229.31171426476487 and parameters: {'kp': 4.485922482272243, 'ki': 4.5066528169486855, 'kd': 0.6879005814390238}. Best is trial 76 with value: 50.08483974916823.\n",
      "[I 2023-10-30 12:46:11,126] Trial 88 finished with value: 220.81943612796758 and parameters: {'kp': 4.317089648268412, 'ki': 4.412652929424354, 'kd': 0.5818926103002846}. Best is trial 76 with value: 50.08483974916823.\n",
      "[I 2023-10-30 12:46:11,211] Trial 89 finished with value: 103.36201471756078 and parameters: {'kp': 4.80415443396349, 'ki': 4.039441189141556, 'kd': 0.3476571586928267}. Best is trial 76 with value: 50.08483974916823.\n",
      "[I 2023-10-30 12:46:11,286] Trial 90 finished with value: 217.80446538991262 and parameters: {'kp': 4.8233337995457015, 'ki': 4.044557182615898, 'kd': 0.3546378135925755}. Best is trial 76 with value: 50.08483974916823.\n",
      "[I 2023-10-30 12:46:11,354] Trial 91 finished with value: 116.72970760116401 and parameters: {'kp': 4.621121083129825, 'ki': 4.2069455419672845, 'kd': 0.4840266557609678}. Best is trial 76 with value: 50.08483974916823.\n",
      "[I 2023-10-30 12:46:11,418] Trial 92 finished with value: 157.66773164025383 and parameters: {'kp': 4.573879550969397, 'ki': 4.218668957251914, 'kd': 0.4592258123029452}. Best is trial 76 with value: 50.08483974916823.\n",
      "[I 2023-10-30 12:46:11,476] Trial 93 finished with value: 176.24845393978495 and parameters: {'kp': 4.673045796225136, 'ki': 3.8393002358726873, 'kd': 0.5216551935330057}. Best is trial 76 with value: 50.08483974916823.\n",
      "[I 2023-10-30 12:46:11,537] Trial 94 finished with value: 75.50308949805533 and parameters: {'kp': 4.760658943635499, 'ki': 4.0722245360029055, 'kd': 0.23021627487690566}. Best is trial 76 with value: 50.08483974916823.\n",
      "[I 2023-10-30 12:46:11,610] Trial 95 finished with value: 22.51738464827264 and parameters: {'kp': 4.435803692748082, 'ki': 3.9879963505275615, 'kd': 0.025572681481249804}. Best is trial 95 with value: 22.51738464827264.\n",
      "[I 2023-10-30 12:46:11,679] Trial 96 finished with value: 111.86774103471816 and parameters: {'kp': 4.455684969079954, 'ki': 3.9948092252502367, 'kd': 0.0860631599633141}. Best is trial 95 with value: 22.51738464827264.\n",
      "[I 2023-10-30 12:46:11,736] Trial 97 finished with value: 197.3015419627271 and parameters: {'kp': 4.438165724552152, 'ki': 3.988073316632905, 'kd': 0.063655572531093}. Best is trial 95 with value: 22.51738464827264.\n",
      "[I 2023-10-30 12:46:11,795] Trial 98 finished with value: 67.35999217497125 and parameters: {'kp': 4.2404428228477595, 'ki': 3.6444250256582253, 'kd': 0.010098513060002492}. Best is trial 95 with value: 22.51738464827264.\n",
      "[I 2023-10-30 12:46:11,868] Trial 99 finished with value: 138.55643989502678 and parameters: {'kp': 4.273060869416291, 'ki': 3.9307851231383313, 'kd': 0.18867212082913593}. Best is trial 95 with value: 22.51738464827264.\n"
     ]
    },
    {
     "name": "stdout",
     "output_type": "stream",
     "text": [
      "Best parameters: {'kp': 4.435803692748082, 'ki': 3.9879963505275615, 'kd': 0.025572681481249804}\n"
     ]
    }
   ],
   "source": [
    "best_params = controller.tune(env)\n",
    "print(f\"Best parameters: {best_params}\")"
   ]
  },
  {
   "cell_type": "code",
   "execution_count": 9,
   "metadata": {},
   "outputs": [
    {
     "data": {
      "text/plain": [
       "{'kp': 4.435803692748082, 'ki': 3.9879963505275615, 'kd': 0.025572681481249804}"
      ]
     },
     "execution_count": 9,
     "metadata": {},
     "output_type": "execute_result"
    }
   ],
   "source": [
    "best_params"
   ]
  }
 ],
 "metadata": {
  "kernelspec": {
   "display_name": "Python 3.8.10 ('ctrl')",
   "language": "python",
   "name": "python3"
  },
  "language_info": {
   "codemirror_mode": {
    "name": "ipython",
    "version": 3
   },
   "file_extension": ".py",
   "mimetype": "text/x-python",
   "name": "python",
   "nbconvert_exporter": "python",
   "pygments_lexer": "ipython3",
   "version": "3.8.10"
  },
  "orig_nbformat": 4,
  "vscode": {
   "interpreter": {
    "hash": "6d3cabbf549175d3a311fb56d6ee084d85b6d241514a8e140cade2ad64af6fb3"
   }
  }
 },
 "nbformat": 4,
 "nbformat_minor": 2
}
